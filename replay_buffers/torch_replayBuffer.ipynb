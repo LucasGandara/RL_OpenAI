{
 "cells": [
  {
   "cell_type": "code",
   "execution_count": 1,
   "metadata": {},
   "outputs": [],
   "source": [
    "# Author: Lucas Gandara\n",
    "\n",
    "import gymnasium as gym\n",
    "import torch\n",
    "from tensordict import TensorDict\n",
    "from torchrl.data import LazyTensorStorage, TensorDictReplayBuffer\n",
    "\n",
    "device = torch.device(\"cuda\" if torch.cuda.is_available() else \"cpu\")"
   ]
  },
  {
   "cell_type": "code",
   "execution_count": 7,
   "metadata": {},
   "outputs": [],
   "source": [
    "env = gym.make(\"HumanoidStandup-v5\", render_mode=\"human\")\n",
    "env.reset()\n",
    "\n",
    "replay_buffer = TensorDictReplayBuffer(\n",
    "    storage=LazyTensorStorage(100), collate_fn=lambda x: x, batch_size=1\n",
    ")\n",
    "\n",
    "for _ in range(100):\n",
    "    action = (\n",
    "        env.action_space.sample()\n",
    "    )  # agent policy that uses the observation and info\n",
    "    observation, reward, terminated, truncated, info = env.step(action)\n",
    "\n",
    "    replay_buffer.add(\n",
    "        data=TensorDict(\n",
    "            {\n",
    "                \"observation\": observation,\n",
    "                \"action\": action,\n",
    "                \"reward\": reward,\n",
    "                \"terminated\": terminated,\n",
    "                \"truncated\": truncated,\n",
    "                \"info\": info,\n",
    "            }\n",
    "        )\n",
    "    )\n",
    "\n",
    "    if terminated or truncated:\n",
    "        observation, info = env.reset()\n",
    "\n",
    "env.close()"
   ]
  },
  {
   "cell_type": "code",
   "execution_count": 8,
   "metadata": {},
   "outputs": [
    {
     "name": "stdout",
     "output_type": "stream",
     "text": [
      "Replay Buffer sample\n",
      "torch.Size([1, 17])\n"
     ]
    }
   ],
   "source": [
    "print(\"Replay Buffer sample\")\n",
    "print(replay_buffer.sample()[\"action\"].shape)\n"
   ]
  },
  {
   "cell_type": "code",
   "execution_count": 11,
   "metadata": {},
   "outputs": [
    {
     "name": "stdout",
     "output_type": "stream",
     "text": [
      "tensor([[-0.0682, -0.1056, -0.3145, -0.3301, -0.1430, -0.0453,  0.3092,  0.2733,\n",
      "          0.0308,  0.1049, -0.0440, -0.0599, -0.0723, -0.2041,  0.0495, -0.2794,\n",
      "          0.2900]])\n"
     ]
    }
   ],
   "source": [
    "for i, data in enumerate(replay_buffer):\n",
    "    if i == 10:\n",
    "        print(data[\"action\"])\n",
    "        break"
   ]
  }
 ],
 "metadata": {
  "kernelspec": {
   "display_name": "drl",
   "language": "python",
   "name": "python3"
  },
  "language_info": {
   "codemirror_mode": {
    "name": "ipython",
    "version": 3
   },
   "file_extension": ".py",
   "mimetype": "text/x-python",
   "name": "python",
   "nbconvert_exporter": "python",
   "pygments_lexer": "ipython3",
   "version": "3.12.7"
  }
 },
 "nbformat": 4,
 "nbformat_minor": 2
}
